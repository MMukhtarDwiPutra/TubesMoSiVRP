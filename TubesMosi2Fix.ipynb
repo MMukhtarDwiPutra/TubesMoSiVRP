{
 "cells": [
  {
   "cell_type": "code",
   "execution_count": 32,
   "metadata": {},
   "outputs": [],
   "source": [
    "import numpy as np\n",
    "from random import randint\n",
    "import matplotlib.pyplot as plt"
   ]
  },
  {
   "cell_type": "code",
   "execution_count": 33,
   "metadata": {},
   "outputs": [],
   "source": [
    "M = 100\n",
    "p = 0.3\n",
    "N = 10\n",
    "tmax = 100\n",
    "vmax = 5\n",
    "v0 = 0"
   ]
  },
  {
   "cell_type": "code",
   "execution_count": 34,
   "metadata": {},
   "outputs": [],
   "source": [
    "def jarak_mobil():\n",
    "    if(i < N-1):\n",
    "        if(arr_x[i]>arr_x[i+1]):\n",
    "            d = ((M-1) - arr_x[i]) + arr_x[i+1] + 1\n",
    "        else:\n",
    "            d = arr_x[i+1] - arr_x[i]\n",
    "    elif(i == N-1):\n",
    "        if(arr_x[i]>arr_x[0]):\n",
    "            d = ((M-1) - arr_x[i]) + arr_x[0] + 1\n",
    "        else:\n",
    "            d = arr_x[0] - arr_x[i]\n",
    "    return d\n",
    "\n",
    "def tambah_posisi(seed):\n",
    "    arr_v[i] = min(arr_v[i]+1,vmax)\n",
    "    arr_v[i] = min(arr_v[i],d-1)\n",
    "\n",
    "    #dengan probabilitas p, nilai v akan -1\n",
    "    np.random.seed(seed)\n",
    "    prob = arr_v[i] + (-1 * np.random.choice(np.arange(0, 2), p=[0.7,0.3]))\n",
    "    arr_v[i] = max(0,prob)\n",
    "    arr_x[i] = arr_x[i] + arr_v[i]\n",
    "\n",
    "    #rumus sesuai spesifikasi tubes\n",
    "    if(arr_x[i]>M-1):\n",
    "        arr_x[i] = arr_x[i] - (M-1) - 1\n",
    "        #karena nilai sudah 0, maka boolean jadi True agar bisa dibandingkan dengan nilai awalnya\n",
    "        arr_bool_x[i] = True\n",
    "        \n",
    "def rata2():\n",
    "    #untuk mencari rata2 nilai\n",
    "    if(arr_bool_x[i] == True and arr_x[i]>arr_x_awal[i]):\n",
    "        arr_bool_x[i] = False\n",
    "        arr_n_rata2[i] += 1\n",
    "        arr_rata2[i] = arr_rata2[i]+ (t-arr_rata2[i])\n",
    "\n",
    "def interval():\n",
    "    #untuk mencari antara interval[x80,x90]\n",
    "    if(arr_x[i] <= 90 and arr_x[i]>=80):\n",
    "        arr_x_interval[t] += 1"
   ]
  },
  {
   "cell_type": "code",
   "execution_count": 44,
   "metadata": {},
   "outputs": [
    {
     "name": "stdout",
     "output_type": "stream",
     "text": [
      "30\n",
      "[ 9 13 15 18 22 44 71 78 81 88]\n"
     ]
    }
   ],
   "source": [
    "np.random.seed(1)\n",
    "arr_x = np.random.randint(M, size = N)\n",
    "arr_x.sort()\n",
    "arr_v = np.random.randint(1,size=N) #v awal = 0\n",
    "arr_x_awal = [] #untuk nampung nilai x awal yang sudah di-random\n",
    "arr_x_interval = [] #untuk nampung nilai x interval[x80,x90]\n",
    "arr_bool_x = [] #untuk nampung nilai boolean, apakah x sudah melewati batas M yang ditentukan\n",
    "arr_rata2 = [] #untuk nampung nilai rata2 mobil kembali ke posisi awalnya\n",
    "arr_n_rata2 = [] #untuk nampung nilai berapa kali suatu mobil melewati posisi awalnya\n",
    "\n",
    "for nilai in arr_x:\n",
    "    arr_x_awal.append(nilai) #untuk memasukan nilai dari arr_x awal yang di-random ke array arr_x_awal\n",
    "    \n",
    "for i in range(N):\n",
    "    arr_rata2.append(0) #untuk membuat default rata2 awal mobil ke posisi awal = 0\n",
    "    arr_n_rata2.append(0) #untuk membuat list n kali mobil ke posisi awal\n",
    "\n",
    "for i in range(N):\n",
    "    arr_bool_x.append(False)\n",
    "\n",
    "seed = 0\n",
    "for t in range (tmax):\n",
    "    arr_x_interval.append(0)\n",
    "    for i in range(N):\n",
    "        d = jarak_mobil()\n",
    "        tambah_posisi(seed)\n",
    "        #biar seednya sama dengan seed visualisasi\n",
    "        if(t!=0):\n",
    "            seed += 1\n",
    "        rata2()\n",
    "        interval()\n",
    "    if(t==3):\n",
    "        print(seed)\n",
    "        print(arr_x)"
   ]
  },
  {
   "cell_type": "code",
   "execution_count": 73,
   "metadata": {},
   "outputs": [
    {
     "name": "stdout",
     "output_type": "stream",
     "text": [
      "Masukkan waktu kepadatan yang ingin diketahui = 21\n",
      "Kendaraan pada saat t =  21  :  1\n",
      "Kepadatan saat t =  21  dibagi dengan waktu itu sendiri :  0.047619047619047616\n",
      "Seluruh kepadatan dari t = 0 sampai t =  21  dibagi dengan waktu itu sendiri :  1.0\n"
     ]
    }
   ],
   "source": [
    "#mencari kepadatan per satuan waktu pada posisi (x=80 sampai x=90)\n",
    "waktu = input(\"Masukkan waktu kepadatan yang ingin diketahui = \")\n",
    "temp = 0\n",
    "for i in range (int(waktu)):\n",
    "    temp = temp + arr_x_interval[i]\n",
    "print(\"Kendaraan pada saat t = \",int(waktu),\" : \",arr_x_interval[int(waktu)])\n",
    "print(\"Kepadatan saat t = \",int(waktu),\" dibagi dengan waktu itu sendiri : \",arr_x_interval[int(waktu)]/int(waktu))\n",
    "print(\"Seluruh kepadatan dari t = 0 sampai t = \",int(waktu),\" dibagi dengan waktu itu sendiri : \",temp/int(waktu))"
   ]
  },
  {
   "cell_type": "code",
   "execution_count": 91,
   "metadata": {},
   "outputs": [
    {
     "name": "stdout",
     "output_type": "stream",
     "text": [
      "Masukan nomor mobil yang ingin dicari rata-rata waktunya : 10\n"
     ]
    },
    {
     "ename": "IndexError",
     "evalue": "list index out of range",
     "output_type": "error",
     "traceback": [
      "\u001b[1;31m---------------------------------------------------------------------------\u001b[0m",
      "\u001b[1;31mIndexError\u001b[0m                                Traceback (most recent call last)",
      "\u001b[1;32m<ipython-input-91-525a192ecf02>\u001b[0m in \u001b[0;36m<module>\u001b[1;34m\u001b[0m\n\u001b[0;32m      1\u001b[0m \u001b[1;31m# mobil kembali ke posisi awal ingin dicari rata-rata waktu kembali ke posisi awal sesuai dengan urutannya (misal 0-9)\")\u001b[0m\u001b[1;33m\u001b[0m\u001b[1;33m\u001b[0m\u001b[1;33m\u001b[0m\u001b[0m\n\u001b[0;32m      2\u001b[0m \u001b[0mn\u001b[0m \u001b[1;33m=\u001b[0m \u001b[0minput\u001b[0m\u001b[1;33m(\u001b[0m\u001b[1;34m\"Masukan nomor mobil yang ingin dicari rata-rata waktunya : \"\u001b[0m\u001b[1;33m)\u001b[0m\u001b[1;33m\u001b[0m\u001b[1;33m\u001b[0m\u001b[0m\n\u001b[1;32m----> 3\u001b[1;33m \u001b[0mprint\u001b[0m\u001b[1;33m(\u001b[0m\u001b[1;34m\"Jumlah waktu mobil kembali ke posisi awal : \"\u001b[0m\u001b[1;33m,\u001b[0m\u001b[0marr_rata2\u001b[0m\u001b[1;33m[\u001b[0m\u001b[0mint\u001b[0m\u001b[1;33m(\u001b[0m\u001b[0mn\u001b[0m\u001b[1;33m)\u001b[0m\u001b[1;33m]\u001b[0m\u001b[1;33m)\u001b[0m\u001b[1;33m\u001b[0m\u001b[1;33m\u001b[0m\u001b[0m\n\u001b[0m\u001b[0;32m      4\u001b[0m \u001b[0mprint\u001b[0m\u001b[1;33m(\u001b[0m\u001b[1;34m\"Jumlah berapa kali mobil kembali ke posisi awal : \"\u001b[0m\u001b[1;33m,\u001b[0m\u001b[0marr_n_rata2\u001b[0m\u001b[1;33m[\u001b[0m\u001b[0mint\u001b[0m\u001b[1;33m(\u001b[0m\u001b[0mn\u001b[0m\u001b[1;33m)\u001b[0m\u001b[1;33m]\u001b[0m\u001b[1;33m)\u001b[0m\u001b[1;33m\u001b[0m\u001b[1;33m\u001b[0m\u001b[0m\n\u001b[0;32m      5\u001b[0m \u001b[0mprint\u001b[0m\u001b[1;33m(\u001b[0m\u001b[1;34m\"Jumlah waktu / jumlah mobil kembali ke posisi awal : \"\u001b[0m\u001b[1;33m,\u001b[0m\u001b[0marr_rata2\u001b[0m\u001b[1;33m[\u001b[0m\u001b[0mint\u001b[0m\u001b[1;33m(\u001b[0m\u001b[0mn\u001b[0m\u001b[1;33m)\u001b[0m\u001b[1;33m]\u001b[0m\u001b[1;33m/\u001b[0m\u001b[0marr_n_rata2\u001b[0m\u001b[1;33m[\u001b[0m\u001b[0mint\u001b[0m\u001b[1;33m(\u001b[0m\u001b[0mn\u001b[0m\u001b[1;33m)\u001b[0m\u001b[1;33m]\u001b[0m\u001b[1;33m)\u001b[0m\u001b[1;33m\u001b[0m\u001b[1;33m\u001b[0m\u001b[0m\n",
      "\u001b[1;31mIndexError\u001b[0m: list index out of range"
     ]
    }
   ],
   "source": [
    "# mobil kembali ke posisi awal ingin dicari rata-rata waktu kembali ke posisi awal sesuai dengan urutannya (misal 0-9)\")\n",
    "n = input(\"Masukan nomor mobil yang ingin dicari rata-rata waktunya : \")\n",
    "print(\"Jumlah waktu mobil kembali ke posisi awal : \",arr_rata2[int(n)])\n",
    "print(\"Jumlah berapa kali mobil kembali ke posisi awal : \",arr_n_rata2[int(n)])\n",
    "print(\"Jumlah waktu / jumlah mobil kembali ke posisi awal : \",arr_rata2[int(n)]/arr_n_rata2[int(n)])"
   ]
  },
  {
   "cell_type": "code",
   "execution_count": null,
   "metadata": {},
   "outputs": [],
   "source": []
  }
 ],
 "metadata": {
  "kernelspec": {
   "display_name": "Python 3",
   "language": "python",
   "name": "python3"
  },
  "language_info": {
   "codemirror_mode": {
    "name": "ipython",
    "version": 3
   },
   "file_extension": ".py",
   "mimetype": "text/x-python",
   "name": "python",
   "nbconvert_exporter": "python",
   "pygments_lexer": "ipython3",
   "version": "3.7.1"
  }
 },
 "nbformat": 4,
 "nbformat_minor": 2
}
