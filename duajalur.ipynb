{
 "cells": [
  {
   "cell_type": "code",
   "execution_count": 17,
   "metadata": {},
   "outputs": [],
   "source": [
    "import numpy as np\n",
    "from random import randint\n",
    "import matplotlib.pyplot as plt"
   ]
  },
  {
   "cell_type": "code",
   "execution_count": 18,
   "metadata": {},
   "outputs": [],
   "source": [
    "M = 100\n",
    "p = 0.3\n",
    "N = 10\n",
    "tmax = 100\n",
    "vmax = 5\n",
    "v0 = 0"
   ]
  },
  {
   "cell_type": "code",
   "execution_count": 120,
   "metadata": {
    "scrolled": true
   },
   "outputs": [
    {
     "name": "stdout",
     "output_type": "stream",
     "text": [
      "3\n",
      "10\n",
      "41\n",
      "23\n",
      "86\n",
      "44\n",
      "31\n",
      "37\n",
      "7\n",
      "96\n",
      "0\n",
      "1\n",
      "1\n",
      "1\n",
      "1\n",
      "1\n",
      "1\n",
      "0\n",
      "0\n",
      "0\n"
     ]
    }
   ],
   "source": [
    "x = []\n",
    "x.insert(1, np.random.randint(M,size = N))\n",
    "x.insert(0, np.random.randint(2,size = N))\n",
    "for i in range (2):\n",
    "    for j in range (N):\n",
    "        print(x[i][j])"
   ]
  },
  {
   "cell_type": "code",
   "execution_count": 64,
   "metadata": {},
   "outputs": [
    {
     "name": "stdout",
     "output_type": "stream",
     "text": [
      "400\n"
     ]
    },
    {
     "ename": "IndexError",
     "evalue": "invalid index to scalar variable.",
     "output_type": "error",
     "traceback": [
      "\u001b[1;31m---------------------------------------------------------------------------\u001b[0m",
      "\u001b[1;31mIndexError\u001b[0m                                Traceback (most recent call last)",
      "\u001b[1;32m<ipython-input-64-23b781a2163f>\u001b[0m in \u001b[0;36m<module>\u001b[1;34m\u001b[0m\n\u001b[0;32m     16\u001b[0m         \u001b[1;31m#pembuatan logika seperti yang ada di spesifikasi tubes\u001b[0m\u001b[1;33m\u001b[0m\u001b[1;33m\u001b[0m\u001b[1;33m\u001b[0m\u001b[0m\n\u001b[0;32m     17\u001b[0m         \u001b[1;32mif\u001b[0m\u001b[1;33m(\u001b[0m\u001b[0mi\u001b[0m \u001b[1;33m<\u001b[0m \u001b[0mN\u001b[0m\u001b[1;33m-\u001b[0m\u001b[1;36m1\u001b[0m\u001b[1;33m)\u001b[0m\u001b[1;33m:\u001b[0m\u001b[1;33m\u001b[0m\u001b[1;33m\u001b[0m\u001b[0m\n\u001b[1;32m---> 18\u001b[1;33m             \u001b[1;32mif\u001b[0m\u001b[1;33m(\u001b[0m\u001b[0marr_x\u001b[0m\u001b[1;33m[\u001b[0m\u001b[0mi\u001b[0m\u001b[1;33m]\u001b[0m\u001b[1;33m>\u001b[0m\u001b[0marr_x\u001b[0m\u001b[1;33m[\u001b[0m\u001b[0mi\u001b[0m\u001b[1;33m+\u001b[0m\u001b[1;36m1\u001b[0m\u001b[1;33m]\u001b[0m\u001b[1;33m)\u001b[0m\u001b[1;33m:\u001b[0m\u001b[1;33m\u001b[0m\u001b[1;33m\u001b[0m\u001b[0m\n\u001b[0m\u001b[0;32m     19\u001b[0m                 \u001b[0md\u001b[0m \u001b[1;33m=\u001b[0m \u001b[1;33m(\u001b[0m\u001b[1;33m(\u001b[0m\u001b[0mM\u001b[0m\u001b[1;33m-\u001b[0m\u001b[1;36m1\u001b[0m\u001b[1;33m)\u001b[0m \u001b[1;33m-\u001b[0m \u001b[0marr_x\u001b[0m\u001b[1;33m[\u001b[0m\u001b[0mi\u001b[0m\u001b[1;33m]\u001b[0m\u001b[1;33m)\u001b[0m \u001b[1;33m+\u001b[0m \u001b[0marr_x\u001b[0m\u001b[1;33m[\u001b[0m\u001b[0mi\u001b[0m\u001b[1;33m+\u001b[0m\u001b[1;36m1\u001b[0m\u001b[1;33m]\u001b[0m\u001b[1;33m\u001b[0m\u001b[1;33m\u001b[0m\u001b[0m\n\u001b[0;32m     20\u001b[0m             \u001b[1;32melse\u001b[0m\u001b[1;33m:\u001b[0m\u001b[1;33m\u001b[0m\u001b[1;33m\u001b[0m\u001b[0m\n",
      "\u001b[1;31mIndexError\u001b[0m: invalid index to scalar variable."
     ]
    }
   ],
   "source": [
    "np.random.seed(2)\n",
    "x = np.random.randint(M, size = N) [0]*N\n",
    "print(x)\n",
    "x.sort()\n",
    "arr_v = [0]*N\n",
    "arr_x_awal = [] #untuk nampung nilai x awal yang sudah di-random\n",
    "arr_bool_x = [] #untuk nampung nilai boolean, apakah x sudah melewati batas M yang ditentukan\n",
    "\n",
    "arr_x = x\n",
    "\n",
    "arr_bool_x = [False]*N\n",
    "seed = 0\n",
    "\n",
    "for t in range (tmax):\n",
    "    for i in range (N):\n",
    "\n",
    "        #pembuatan logika seperti yang ada di spesifikasi tubes     \n",
    "        if(i < N-1):\n",
    "            if(arr_x[i]>arr_x[i+1]):\n",
    "                d = ((M-1) - arr_x[i]) + arr_x[i+1]\n",
    "            else:\n",
    "                d = arr_x[i+1] - arr_x[i]\n",
    "        elif(i == N-1):\n",
    "            if(arr_x[i]>arr_x[0]):\n",
    "                d = ((M-1) - arr_x[i]) + arr_x[0]\n",
    "            else:\n",
    "                d = arr_x[0] - arr_x[i]\n",
    "                \n",
    "        if(i < N-3 and i > 0):\n",
    "            gaplookback = arr_x[i] - arr_x[i-1]\n",
    "            gapahead = arr_x[i+2] - arr_x[i]\n",
    "        elif (i == 0):\n",
    "            if(arr_x[0] > arr_x[N-1]):\n",
    "                gaplookback = arr_x[0] - arr_x[N-1]\n",
    "            else:\n",
    "                gaplookback = ((M-1) - arr_x[N-1]) + arr_x[0]\n",
    "            if(arr_x[2] > arr_x[0]):\n",
    "                gapahead = arr_x[2] - arr_x[0]\n",
    "            else:\n",
    "                gapahead = ((M-1) - arr_x[0]) + arr_x[2]\n",
    "        elif(i == N-2):\n",
    "            if(arr_x[i] > arr_x[0]):\n",
    "                gapahead = ((M-1) - arr_x[i]) + arr_x[0]\n",
    "            else:\n",
    "                gapahead = arr_x[0] - arr_x[i]\n",
    "            \n",
    "            if(arr_x[i] > arr_x[i-1]):\n",
    "                gaplookback = arr_x[i] - arr_x[i-1]\n",
    "            else:\n",
    "                gaplookback = ((M-1) - arr_x[i]) + arr_x[0]\n",
    "        elif(i == N-1):\n",
    "            if(arr_x[i] > arr_x[1]):\n",
    "                gapahead = ((M-1) - arr_x[i]) + arr_x[1]\n",
    "            else:\n",
    "                gapahead = arr_x[1] - arr_x[i]\n",
    "                \n",
    "            if(arr_x[i] > arr_x[i-1]):\n",
    "                gaplookback = arr_x[i] - arr_x[i-1]\n",
    "            else:\n",
    "                gaplookback = ((M-1) - arr_x[i]) + arr_x[1]\n",
    "        \n",
    "        #rumus sesuai dengan spesifikasi tubes\n",
    "        arr_v[i] = min(arr_v[i]+1,vmax)\n",
    "        if((gaplookback-1) >= vmax and (gapahead-1) >= arr_v[i]):\n",
    "            if(arr_jalur[i]==0):\n",
    "                arr_jalur[i] = 1\n",
    "            else:\n",
    "                arr_jalur[i] = 0\n",
    "        else:\n",
    "            #dengan probabilitas p, nilai v akan -1\n",
    "            np.random.seed(seed)\n",
    "            prob = arr_v[i] + (-1 * np.random.choice(np.arange(0, 2), p=[0.7,0.3]))\n",
    "            arr_v[i] = max(0,prob)\n",
    "            \n",
    "        arr_x[i] = arr_v[i] + arr_x[i]\n",
    "        seed += 1\n",
    "        \n",
    "        #nilai sudah melewati batas\n",
    "        if(arr_x[i]>=M-1):\n",
    "            arr_x[i] = arr_x[i] - (M-1)\n",
    "            #karena nilai sudah 0, maka boolean jadi True agar bisa dibandingkan dengan nilai awalnya\n",
    "            arr_bool_x[i] = True\n",
    "    \n",
    "    print('=======')\n"
   ]
  },
  {
   "cell_type": "code",
   "execution_count": 60,
   "metadata": {},
   "outputs": [
    {
     "name": "stdout",
     "output_type": "stream",
     "text": [
      "4\n",
      "pindah jalur\n",
      "3\n",
      "pindah jalur\n",
      "2\n",
      "pindah jalur\n",
      "1\n",
      "pindah jalur\n",
      "0\n"
     ]
    }
   ],
   "source": [
    "arr_jalur = np.random.randint(2, size = 10)\n",
    "for z in range (i-1,-1,-1):\n",
    "    print(z)\n",
    "    if(arr_jalur[i] == 1):\n",
    "        if(arr_jalur[z]==0):\n",
    "            print(\"pindah jalur\")\n",
    "    else:\n",
    "        if(arr_jalur[z] == 1):\n",
    "            print(\"pind jal\")"
   ]
  },
  {
   "cell_type": "code",
   "execution_count": 32,
   "metadata": {},
   "outputs": [
    {
     "name": "stdout",
     "output_type": "stream",
     "text": [
      "[0, 1, 2, 3, 4, 5, 6, 7, 8, 9]\n"
     ]
    }
   ],
   "source": []
  },
  {
   "cell_type": "code",
   "execution_count": null,
   "metadata": {},
   "outputs": [],
   "source": []
  }
 ],
 "metadata": {
  "kernelspec": {
   "display_name": "Python 3",
   "language": "python",
   "name": "python3"
  },
  "language_info": {
   "codemirror_mode": {
    "name": "ipython",
    "version": 3
   },
   "file_extension": ".py",
   "mimetype": "text/x-python",
   "name": "python",
   "nbconvert_exporter": "python",
   "pygments_lexer": "ipython3",
   "version": "3.7.1"
  }
 },
 "nbformat": 4,
 "nbformat_minor": 2
}
