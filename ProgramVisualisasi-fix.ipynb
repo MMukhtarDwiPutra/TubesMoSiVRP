{
 "cells": [
  {
   "cell_type": "code",
   "execution_count": 6,
   "metadata": {},
   "outputs": [
    {
     "name": "stdout",
     "output_type": "stream",
     "text": [
      "[ 1  5  9 12 16 37 64 72 75 79]\n"
     ]
    }
   ],
   "source": [
    "import numpy as np\n",
    "from random import randint\n",
    "import matplotlib.pyplot as plt\n",
    "\n",
    "M = 100\n",
    "p = 0.3\n",
    "N = 10\n",
    "tmax = 100\n",
    "vmax = 5\n",
    "v0 = 0\n",
    "t = 0\n",
    "\n",
    "np.random.seed(1)\n",
    "arr_x = np.random.randint(M, size = N)\n",
    "arr_x.sort()\n",
    "print(arr_x)\n",
    "# arr_v = np.random.randint(1,size=N) #v awal = 0\n",
    "arr_v = [v0]*10"
   ]
  },
  {
   "cell_type": "code",
   "execution_count": 7,
   "metadata": {},
   "outputs": [
    {
     "name": "stdout",
     "output_type": "stream",
     "text": [
      "pygame 1.9.5\n",
      "Hello from the pygame community. https://www.pygame.org/contribute.html\n",
      "[50, 150, 250, 350, 450, 550, 650, 750, 850, 950]\n"
     ]
    }
   ],
   "source": [
    "import pygame\n",
    "import time\n",
    "pygame.init()\n",
    "\n",
    "win = pygame.display.set_mode((1000,600))\n",
    "largeText = pygame.font.SysFont('Arial', 15)\n",
    "\n",
    "letak_x = []\n",
    "j = 50\n",
    "for i in range(10):\n",
    "    letak_x.append(j)\n",
    "    j+=100\n",
    "print(letak_x)\n",
    "\n",
    "pygame.display.set_caption(\"Model Lalu Lintas Nagel-Schreckenberg\")\n",
    "\n",
    "white = (255,255,255)\n",
    "\n",
    "def text_objects(text, font):\n",
    "    textSurface = font.render(text, True, white)\n",
    "    return textSurface, textSurface.get_rect()"
   ]
  },
  {
   "cell_type": "code",
   "execution_count": 8,
   "metadata": {},
   "outputs": [],
   "source": [
    "def jarak_mobil():\n",
    "    if(i < N-1):\n",
    "        if(arr_x[i]>arr_x[i+1]):\n",
    "            d = ((M-1) - arr_x[i]) + arr_x[i+1]\n",
    "        else:\n",
    "            d = arr_x[i+1] - arr_x[i]\n",
    "    elif(i == N-1):\n",
    "        if(arr_x[i]>arr_x[0]):\n",
    "            d = ((M-1) - arr_x[i]) + arr_x[0]\n",
    "        else:\n",
    "            d = arr_x[0] - arr_x[i]\n",
    "    return d\n",
    "\n",
    "def tambah_posisi(seed):\n",
    "    arr_v[i] = min(arr_v[i]+1,vmax)\n",
    "    arr_v[i] = min(arr_v[i],d-1)\n",
    "\n",
    "    #dengan probabilitas p, nilai v akan -1\n",
    "    np.random.seed(seed)\n",
    "    prob = arr_v[i] + (-1 * np.random.choice(np.arange(0, 2), p=[0.7,0.3]))\n",
    "    arr_v[i] = max(0,prob)\n",
    "    arr_x[i] = arr_x[i] + arr_v[i]\n",
    "\n",
    "    #rumus sesuai spesifikasi tubes\n",
    "    if(arr_x[i]>M-1):\n",
    "        arr_x[i] = arr_x[i] - (M-1)\n",
    "\n",
    "def tulisan_posisi():\n",
    "    #tulisan posisi per mobil\n",
    "    text = 'Posisi '+str(i)+' : '+str(arr_x[i])\n",
    "    TextSurf, TextRect = text_objects(text, largeText)\n",
    "    TextRect.center = (letak_x[i],550)\n",
    "    win.blit(TextSurf, TextRect)\n",
    "    pygame.display.update()\n",
    "    \n",
    "def text_dimobil():\n",
    "    #text 0,1,2,3... di mobil\n",
    "    pygame.draw.rect(win,(255,0,0), (temp,y,w,h))\n",
    "    win.blit(largeText.render('%d'%i, True, (0,0,0)), (temp, y))\n",
    "    pygame.display.update()\n",
    "\n",
    "def text_time():\n",
    "    #text time di atas kiri\n",
    "    TextSurf, TextRect = text_objects('Time : %d'%t, largeText)\n",
    "    TextRect.center = (100,50)\n",
    "    win.blit(TextSurf, TextRect)\n",
    "    pygame.display.update()"
   ]
  },
  {
   "cell_type": "code",
   "execution_count": null,
   "metadata": {},
   "outputs": [],
   "source": [
    "y = 250\n",
    "w = 10\n",
    "h = 50\n",
    "\n",
    "run = True\n",
    "temp = 0\n",
    "for i in range(N):\n",
    "        d = jarak_mobil()\n",
    "        tambah_posisi(0)\n",
    "        #untuk nampilin di aplikasi nanti\n",
    "        temp = arr_x[i] * 10\n",
    "        text_dimobil()\n",
    "        tulisan_posisi()\n",
    "\n",
    "text_time()\n",
    "seed = 0\n",
    "while run:\n",
    "    pygame.time.delay(100)\n",
    "    \n",
    "    for event in pygame.event.get():\n",
    "        if(event.type == pygame.QUIT):\n",
    "            run = False\n",
    "            \n",
    "    keys = pygame.key.get_pressed()\n",
    "    \n",
    "    if keys[pygame.K_RIGHT]:\n",
    "        t += 1\n",
    "        if(t <= tmax):\n",
    "            for i in range(N):\n",
    "                d = jarak_mobil()\n",
    "                tambah_posisi(seed)\n",
    "                seed += 1\n",
    "                #untuk nampilin di aplikasi nanti\n",
    "                temp = arr_x[i] * 10\n",
    "                text_time()\n",
    "                tulisan_posisi()\n",
    "                text_dimobil()\n",
    "    win.fill((0,0,0))\n",
    "pygame.quit()"
   ]
  },
  {
   "cell_type": "code",
   "execution_count": null,
   "metadata": {},
   "outputs": [],
   "source": [
    "for i in reversed(range(5,10)):\n",
    "    print(i)"
   ]
  }
 ],
 "metadata": {
  "kernelspec": {
   "display_name": "Python 3",
   "language": "python",
   "name": "python3"
  },
  "language_info": {
   "codemirror_mode": {
    "name": "ipython",
    "version": 3
   },
   "file_extension": ".py",
   "mimetype": "text/x-python",
   "name": "python",
   "nbconvert_exporter": "python",
   "pygments_lexer": "ipython3",
   "version": "3.7.1"
  }
 },
 "nbformat": 4,
 "nbformat_minor": 2
}
